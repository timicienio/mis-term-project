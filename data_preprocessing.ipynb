{
 "cells": [
  {
   "cell_type": "code",
   "execution_count": 14,
   "metadata": {},
   "outputs": [],
   "source": [
    "import pandas as pd"
   ]
  },
  {
   "cell_type": "code",
   "execution_count": 15,
   "metadata": {},
   "outputs": [],
   "source": [
    "df_ori = pd.read_csv('./data/113-1 資訊管理：消費者對生成式 AI 的使用意願調查問卷 (回覆) - 表單回應 1 (1).csv')"
   ]
  },
  {
   "cell_type": "code",
   "execution_count": 16,
   "metadata": {},
   "outputs": [],
   "source": [
    "df = pd.DataFrame()\n",
    "df['TechKnowledge'] = df_ori['分數'].astype(str).str[0]"
   ]
  },
  {
   "cell_type": "code",
   "execution_count": 17,
   "metadata": {},
   "outputs": [],
   "source": [
    "\n",
    "freq_to_score = {\n",
    "\t'從不使用': 0,\n",
    "\t'一週 1 次': 1,\n",
    "\t'一週 2 ~ 3 次': 2,\n",
    "\t'一週 4 ~ 5 次': 3,\n",
    "\t'一天 1 次': 4,\n",
    "\t'一天數次': 5\n",
    "}\n",
    "df['UseFreq'] = df_ori['您使用生成式 AI 工具的頻率為何？'].map(lambda row: freq_to_score.get(row))"
   ]
  },
  {
   "cell_type": "code",
   "execution_count": 18,
   "metadata": {},
   "outputs": [],
   "source": [
    "high_risk = [\"您過去有在下列哪些情境下使用生成式 AI 工具呢？ [諮詢有關法律或商業機密的問題]\", \"您過去有在下列哪些情境下使用生成式 AI 工具呢？ [諮詢含有個人基本資訊或安全資訊的問題]\", \"您過去有在下列哪些情境下使用生成式 AI 工具呢？ [諮詢個人醫療或心理健康建議]\", \"您過去有在下列哪些情境下使用生成式 AI 工具呢？ [諮詢個人財務規劃的問題]\", \"您過去有在下列哪些情境下使用生成式 AI 工具呢？ [諮詢日常想法或私密情感相關問題]\"]\n",
    "low_risk = [\"您過去有在下列哪些情境下使用生成式 AI 工具呢？ [查詢一般客觀事實、知識型的資料]\", \"您過去有在下列哪些情境下使用生成式 AI 工具呢？ [針對一般知識的文本內容進行客觀重點摘要]\", \"您過去有在下列哪些情境下使用生成式 AI 工具呢？ [針對一般文章內容進行與原文語言不同的翻譯]\"]\n",
    "\n",
    "scoring = {\"是\": 2, \"不確定\": 1, \"否\": 0}\n",
    "\n",
    "df[\"TaskSensitivityHigh\"] = df_ori[high_risk].replace(scoring).sum(axis=1)\n",
    "df[\"TaskSensitivityLow\"] = df_ori[low_risk].replace(scoring).sum(axis=1)"
   ]
  },
  {
   "cell_type": "code",
   "execution_count": 19,
   "metadata": {},
   "outputs": [],
   "source": [
    "\n",
    "scoring = {\"是\": 1, \"否\": 0}\n",
    "df[\"SensitiveTask1\"] = df_ori['您是否曾經上傳過個人資料（如電話號碼、生日、身分證字號等）到生成式 AI 的互動平台（e.g. chatbox）呢？'].replace(scoring)\n",
    "df[\"SensitiveTask2\"] = df_ori['您是否曾經上傳過個人健康相關資訊到生成式 AI 的互動平台（e.g. chatbox）呢？'].replace(scoring)\n",
    "df[\"SensitiveTask3\"] = df_ori['您是否曾經上傳過個人財務資訊到生成式 AI 的互動平台（e.g. chatbox）呢？'].replace(scoring)"
   ]
  },
  {
   "cell_type": "code",
   "execution_count": 20,
   "metadata": {},
   "outputs": [],
   "source": [
    "scoring = {\n",
    "\t'非常同意': 5,\n",
    "\t'同意': 4,\n",
    "\t'普通': 3,\n",
    "\t'不同意': 2,\n",
    "\t'非常不同意': 1\n",
    "}\n",
    "\n",
    "df['UseIntent1'] = df_ori['我會在日常生活中盡量使用生成式 AI 。'].map(lambda row: scoring.get(row))\n",
    "df['UseIntent2'] = df_ori['我打算盡可能持續使用生成式 AI 。'].map(lambda row: scoring.get(row))\n",
    "df['UseIntent3'] = df_ori['我打算繼續使用生成式 AI ，而不是停止使用它。'].map(lambda row: scoring.get(row))\n",
    "df['PrivacyConcern1'] = df_ori['當生成式 AI 要求我提供個人資訊時，我有時會再三考慮是否提供。'].map(lambda row: scoring.get(row))\n",
    "df['PrivacyConcern2'] = df_ori['我擔心生成式 AI 收集了過多關於我的個人資訊。'].map(lambda row: scoring.get(row))\n",
    "df['PrivacyConcern3'] = df_ori['向生成式 AI 提供個人資訊可能會威脅到我的私人生活。'].map(lambda row: scoring.get(row))\n",
    "df['PolicyKnowledge1'] = df_ori['我注意到生成式 AI 會收集我的聊天記錄，例如我告訴它的住址、宗教信仰或母親姓名。'].map(lambda row: scoring.get(row))\n",
    "df['PolicyKnowledge2'] = df_ori['我了解生成式 AI 隱私政策解釋了為什麼會收集個人資訊。'].map(lambda row: scoring.get(row))\n",
    "df['PolicyKnowledge3'] = df_ori['我了解生成式 AI 隱私政策解釋了收集到的個人資訊將如何被使用。'].map(lambda row: scoring.get(row))"
   ]
  },
  {
   "cell_type": "code",
   "execution_count": 21,
   "metadata": {},
   "outputs": [],
   "source": [
    "gender_code = {\n",
    "\t'男': 'M',\n",
    "\t'女': 'F',\n",
    "\t'其他': 'X'\n",
    "}\n",
    "\n",
    "df['Gender'] = df_ori['您的社會性別 '].map(lambda row: gender_code.get(row))"
   ]
  },
  {
   "cell_type": "code",
   "execution_count": 22,
   "metadata": {},
   "outputs": [],
   "source": [
    "df['Age'] = df_ori['您的年齡']\n",
    "df['Occupation'] = df_ori['您的職業']"
   ]
  },
  {
   "cell_type": "code",
   "execution_count": 23,
   "metadata": {},
   "outputs": [],
   "source": [
    "df.to_csv('./data/MIS_term_project_preprocessed_data.csv')"
   ]
  }
 ],
 "metadata": {
  "kernelspec": {
   "display_name": "base",
   "language": "python",
   "name": "python3"
  },
  "language_info": {
   "codemirror_mode": {
    "name": "ipython",
    "version": 3
   },
   "file_extension": ".py",
   "mimetype": "text/x-python",
   "name": "python",
   "nbconvert_exporter": "python",
   "pygments_lexer": "ipython3",
   "version": "3.10.6"
  }
 },
 "nbformat": 4,
 "nbformat_minor": 2
}
